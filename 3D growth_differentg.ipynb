{
 "cells": [
  {
   "cell_type": "code",
   "execution_count": 3,
   "id": "8f12569c-3168-4868-bfa4-461f86114c84",
   "metadata": {},
   "outputs": [],
   "source": [
    "import numpy as np\n",
    "%matplotlib tk\n",
    "import matplotlib.pyplot as plt"
   ]
  },
  {
   "cell_type": "code",
   "execution_count": null,
   "id": "b83af2c3-2a09-4d5f-a250-2bf175104765",
   "metadata": {},
   "outputs": [],
   "source": [
    "N = 6  #Number of colonies\n",
    "Adot = 1  #Time derivative of Area\n",
    "T = 100  #Max time of evolution\n",
    "L = 11 #Length of the square box\n",
    "\n",
    "dr = [(L/500),(L/400),L/400,(L/350),L/800,L/800]  #Rate of change in redius for A\n",
    "# dr = [(L/800),1.5*(L/400),L/800,(L/400),L/900,L/400]  #Rate of change in redius for B\n",
    "# dr = [L/300,L/500] #Rate of change in redius for C\n",
    "\n",
    "a = 4  #Determines the number of directions that the colonies expand to\n",
    "dmin = 0.5\n"
   ]
  },
  {
   "cell_type": "code",
   "execution_count": null,
   "id": "52852bfa-6e0a-4fac-b1c0-40faae20b561",
   "metadata": {},
   "outputs": [],
   "source": [
    "x0,y0,z0 = np.zeros(N),np.zeros(N),np.zeros(N)\n",
    "\n",
    "\n",
    "#Intials\n",
    "\n",
    "#A\n",
    "x0[0],y0[0],z0[0] = 3.8,1.5,6.3\n",
    "x0[1],y0[1],z0[1] = 4.7,1.3,6.7\n",
    "x0[2],y0[2],z0[2] = 6.5,1.2,7.2\n",
    "x0[3],y0[3],z0[3] = 8.7,1.3,7\n",
    "x0[4],y0[4],z0[4] = 10,1.3,4\n",
    "x0[5],y0[5],z0[5] = 5,2,8\n",
    "\n",
    "#B\n",
    "# x0[0],y0[0],z0[0] = 4,1.5,6.9\n",
    "# x0[1],y0[1],z0[1] = 4.9,1.3,7.2\n",
    "# x0[2],y0[2],z0[2] = 5.7,1.7,7.8\n",
    "# x0[3],y0[3],z0[3] = 6.3,1.2,7.2\n",
    "# x0[4],y0[4],z0[4] = 7.1,0.9,7\n",
    "# x0[5],y0[5],z0[5] = 8.5,0.9,6.7\n",
    "\n",
    "#C\n",
    "# x0[0],y0[0],z0[0] = 6.3,1.5,6.5\n",
    "# x0[1],y0[1],z0[1] = 7.0,1.6,7.7\n",
    "# x0[2],y0[2],z0[2] = 4,1.5,7\n",
    "# x0[3],y0[3],z0[3] = 3.1,1.9,6.3\n",
    "\n",
    "\n",
    "\n"
   ]
  },
  {
   "cell_type": "code",
   "execution_count": null,
   "id": "72641b9c-a86f-4d03-9728-ca6f1e7dd865",
   "metadata": {},
   "outputs": [],
   "source": [
    "def collision(x1,y1,z1,x2,y2,z2,i):  #(x1,y1) is a point and (x2,y2) are a set of points\n",
    "    if x1 > 2*L or x1 < 0 or y1 > 2*L or y1 < 0 or z1 > 2*L or z1 < 0:  #Walls\n",
    "        return 0\n",
    "    c = [n for n in range(N) if n!=i]  #For the clusters other than the one containing (x1,y1)\n",
    "    for k in c:\n",
    "        for j in range(len(x2[k])):\n",
    "            if (x1 - x2[k][j])**2 + (y1 - y2[k][j])**2 + (z1 - z2[k][j])**2 < dmin*dmin:\n",
    "                return 0\n",
    "    return 1"
   ]
  },
  {
   "cell_type": "code",
   "execution_count": null,
   "id": "26d73856-3fd3-4062-b151-e85fd62278e5",
   "metadata": {},
   "outputs": [],
   "source": [
    "def rng(x0,y0,z0,r):\n",
    "    u = np.random.rand()\n",
    "    v = np.random.rand()\n",
    "    \n",
    "    theta = 2 * np.pi * u\n",
    "    phi = np.arccos(2 * v - 1)\n",
    "    \n",
    "    x = np.sin(phi) * np.cos(theta) * r + x0\n",
    "    y = np.sin(phi) * np.sin(theta) * r + y0\n",
    "    z = np.cos(phi) * r + z0\n",
    "    \n",
    "    return x, y, z"
   ]
  },
  {
   "cell_type": "code",
   "execution_count": null,
   "id": "8037f596-f1fb-402c-bb18-6d0ccc14124a",
   "metadata": {},
   "outputs": [],
   "source": [
    "x,y,z = [[x0[i]] for i in range(N)],[[y0[i]] for i in range(N)],[[z0[i]] for i in range(N)]\n",
    "\n",
    "n = 0  #Number of points per area element of a sphere\n",
    "\n",
    "time_step = 8\n",
    "\n",
    "for t in range(1,time_step):  #Each time\n",
    "\n",
    "    for i in range(N):  #Each colony\n",
    "        \n",
    "        theta = 2*np.pi/(a*t)  #The angle between adjacent expand direction\n",
    "        n += 1    \n",
    "        r = n*dr[0]  #Distance from center\n",
    "        \n",
    "        for j in range((n**2)*a):  #The number of points scales as the square of distance from the origin\n",
    "            p,q,w = rng(x[i][0],y[i][0],z[i][0],r)\n",
    "            if collision(p,q,w,x,y,z,i) == 1:\n",
    "                x[i] += [p]\n",
    "                y[i] += [q]\n",
    "                z[i] += [w]\n"
   ]
  },
  {
   "cell_type": "code",
   "execution_count": null,
   "id": "44c7f01b-9919-4118-8ee1-aabb230e206f",
   "metadata": {},
   "outputs": [],
   "source": [
    "fig = plt.figure()\n",
    "ax = fig.add_subplot(111, projection=\"3d\")\n",
    "\n",
    "ax.set_xlim(0,8)\n",
    "ax.set_ylim(0,8)\n",
    "ax.set_zlim(0,8)\n",
    "ax.set_xlabel('x')\n",
    "ax.set_ylabel('y')\n",
    "ax.set_zlabel('z')\n",
    "ax.set_facecolor(\"black\")\n",
    "fig.patch.set_facecolor(\"black\")\n",
    "\n",
    "\n",
    "one = \"#C9FD1B\"  # Green-Yellow1\n",
    "two = \"#F55AF9\"  # Purple1\n",
    "three = \"#E800E9\" #Purple2\n",
    "\n",
    "colors = [two, one,three,two]\n",
    "for i in range(N):\n",
    "    ax.scatter3D(x[i], y[i], z[i], s=50,alpha=1,color=colors[i])\n",
    "ax.set_axis_off()  # This hides the axes completely\n",
    " \n",
    "ax.grid(False) \n",
    "plt.show()\n",
    "ax.view_init(14,-110) #orientation \n"
   ]
  },
  {
   "cell_type": "code",
   "execution_count": null,
   "id": "70b1b3c2-80b0-4c8e-9626-167d0a33ece4",
   "metadata": {},
   "outputs": [],
   "source": []
  },
  {
   "cell_type": "code",
   "execution_count": null,
   "id": "b35f195d-b003-42ce-9000-4d66150a22fc",
   "metadata": {},
   "outputs": [],
   "source": []
  },
  {
   "cell_type": "code",
   "execution_count": null,
   "id": "c3ab8613-6927-428f-ac29-ad27f0808c45",
   "metadata": {},
   "outputs": [],
   "source": []
  },
  {
   "cell_type": "code",
   "execution_count": null,
   "id": "d0918309-be76-4db5-81c9-c808e730a365",
   "metadata": {},
   "outputs": [],
   "source": []
  },
  {
   "cell_type": "code",
   "execution_count": null,
   "id": "b65b8bb8-d18a-4ab8-a143-a7afe2e300b4",
   "metadata": {},
   "outputs": [],
   "source": []
  },
  {
   "cell_type": "code",
   "execution_count": null,
   "id": "bc2bd848-ecae-4854-a53a-aafb2898003e",
   "metadata": {},
   "outputs": [],
   "source": []
  },
  {
   "cell_type": "code",
   "execution_count": null,
   "id": "c4ea2137-d6d0-4469-bb4e-f73cedb369fa",
   "metadata": {},
   "outputs": [],
   "source": []
  }
 ],
 "metadata": {
  "kernelspec": {
   "display_name": "Python [conda env:base] *",
   "language": "python",
   "name": "conda-base-py"
  },
  "language_info": {
   "codemirror_mode": {
    "name": "ipython",
    "version": 3
   },
   "file_extension": ".py",
   "mimetype": "text/x-python",
   "name": "python",
   "nbconvert_exporter": "python",
   "pygments_lexer": "ipython3",
   "version": "3.12.2"
  }
 },
 "nbformat": 4,
 "nbformat_minor": 5
}
