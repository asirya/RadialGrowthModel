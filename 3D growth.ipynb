{
 "cells": [
  {
   "cell_type": "code",
   "execution_count": 2,
   "id": "216372b0-b8fc-4451-8d08-42b0a06c9cbc",
   "metadata": {},
   "outputs": [],
   "source": [
    "import numpy as np\n",
    "%matplotlib tk\n",
    "import matplotlib.pyplot as plt"
   ]
  },
  {
   "cell_type": "code",
   "execution_count": null,
   "id": "0f24ce43-80b9-4c50-bfe9-dd16a5f01a6a",
   "metadata": {},
   "outputs": [],
   "source": [
    "N = 8 #Number of colonies\n",
    "Adot = 1  #Time derivative of Area\n",
    "T = 100  #Max time of evolution\n",
    "L = 12 #Length of the square box\n",
    "dr = L/600  #Rate of change in redius\n",
    "a = 4  #Determines the number of directions that the colonies expand to\n",
    "dmin = dr*8  #Distance that is considered too close to be able to grow further"
   ]
  },
  {
   "cell_type": "code",
   "execution_count": null,
   "id": "a90d13ce-2b02-4dd2-b0af-c6ac32ff402e",
   "metadata": {},
   "outputs": [],
   "source": [
    "x0,y0,z0 = np.zeros(N),np.zeros(N),np.zeros(N)\n",
    "\n",
    "#Cubic \n",
    "x0[0],y0[0],z0[0] = 4,4,6\n",
    "x0[1],y0[1],z0[1] = 6,4,6\n",
    "x0[2],y0[2],z0[2] = 4,2,6\n",
    "x0[3],y0[3],z0[3] = 6,2,6\n",
    "x0[4],y0[4],z0[4] = 4,4,4\n",
    "x0[5],y0[5],z0[5] = 6,4,4\n",
    "x0[6],y0[6],z0[6] = 4,2,4\n",
    "x0[7],y0[7],z0[7] = 6,2,4"
   ]
  },
  {
   "cell_type": "code",
   "execution_count": null,
   "id": "86636925-a9b9-4fac-bc62-fb42b47838be",
   "metadata": {},
   "outputs": [],
   "source": [
    "def collision(x1,y1,z1,x2,y2,z2,i):  #(x1,y1) is a point and (x2,y2) are a set of points\n",
    "    if x1 > L or x1 < 0 or y1 > L or y1 < 0 or z1 > L or z1 < 0:  #Walls\n",
    "        return 0\n",
    "    c = [n for n in range(N) if n!=i]  #For the clusters other than the one containing (x1,y1)\n",
    "    for k in c:\n",
    "        for j in range(len(x2[k])):\n",
    "            if (x1 - x2[k][j])**2 + (y1 - y2[k][j])**2 + (z1 - z2[k][j])**2 < dmin*dmin:\n",
    "                return 0\n",
    "    return 1"
   ]
  },
  {
   "cell_type": "code",
   "execution_count": null,
   "id": "b033c70e-d5ac-4591-a0a8-cf8926ac1b9a",
   "metadata": {},
   "outputs": [],
   "source": [
    "def rng(x0,y0,z0,r):\n",
    "    u = np.random.rand()\n",
    "    v = np.random.rand()\n",
    "    \n",
    "    theta = 2 * np.pi * u\n",
    "    phi = np.arccos(2 * v - 1)\n",
    "    \n",
    "    x = np.sin(phi) * np.cos(theta) * r + x0\n",
    "    y = np.sin(phi) * np.sin(theta) * r + y0\n",
    "    z = np.cos(phi) * r + z0\n",
    "    \n",
    "    return x, y, z"
   ]
  },
  {
   "cell_type": "code",
   "execution_count": null,
   "id": "fc9d121e-98d7-43aa-a99d-18663b30451d",
   "metadata": {},
   "outputs": [],
   "source": [
    "x,y,z = [[x0[i]] for i in range(N)],[[y0[i]] for i in range(N)],[[z0[i]] for i in range(N)]\n",
    "\n",
    "n = 0  #Number of points per area element of a sphere\n",
    "\n",
    "time_step: 8\n",
    "\n",
    "for t in range(1,time_step):  #Each time\n",
    "    theta = 2*np.pi/(a*t)  #The angle between adjacent expand direction\n",
    "    n += 1\n",
    "    r = n*dr  #Distance from center\n",
    "    for i in range(N):  #Each colony\n",
    "        for j in range((n**2)*a):  #The number of points scales as the square of distance from the origin\n",
    "            p,q,w = rng(x[i][0],y[i][0],z[i][0],r)\n",
    "            if collision(p,q,w,x,y,z,i) == 1:\n",
    "                x[i] += [p]\n",
    "                y[i] += [q]\n",
    "                z[i] += [w]\n"
   ]
  },
  {
   "cell_type": "code",
   "execution_count": null,
   "id": "d6aaa158-fe80-449d-9537-fc8fc5063abd",
   "metadata": {},
   "outputs": [],
   "source": [
    "fig = plt.figure()\n",
    "ax = fig.add_subplot(111, projection=\"3d\")\n",
    "\n",
    "ax.set_xlim(0,8)\n",
    "ax.set_ylim(0,8)\n",
    "ax.set_zlim(0,8)\n",
    "ax.set_xlabel('x')\n",
    "ax.set_ylabel('y')\n",
    "ax.set_zlabel('z')\n",
    "ax.set_facecolor(\"black\")\n",
    "fig.patch.set_facecolor(\"black\")\n",
    "\n",
    "colors = [\"red\", \"blue\", \"orange\", \"green\", \"purple\", \"yellow\", \"pink\", \"brown\", \"green\"]\n",
    "\n",
    "for i in range(N):\n",
    "    ax.scatter3D(x[i], y[i], z[i], s=50,alpha=1,color=colors[i])\n",
    "ax.set_axis_off()  # This hides the axes completely\n",
    " \n",
    "ax.grid(False) \n",
    "plt.show()\n",
    "ax.view_init(-170,62) #orientation \n",
    "# plt.savefig(\"cubic_initial.png\", dpi=1000)"
   ]
  },
  {
   "cell_type": "code",
   "execution_count": null,
   "id": "8a2eb929-c796-4ec8-8052-a44319a0e87d",
   "metadata": {},
   "outputs": [],
   "source": []
  },
  {
   "cell_type": "code",
   "execution_count": null,
   "id": "56fc77a5-7633-496b-9ee6-a1ccfd65124f",
   "metadata": {},
   "outputs": [],
   "source": []
  },
  {
   "cell_type": "code",
   "execution_count": null,
   "id": "127d8d8a-4fb5-4bab-97d7-dce1f4a4a8ce",
   "metadata": {},
   "outputs": [],
   "source": []
  },
  {
   "cell_type": "code",
   "execution_count": null,
   "id": "5a69677e-8b6e-45a8-8e04-6448d0bb6940",
   "metadata": {},
   "outputs": [],
   "source": []
  },
  {
   "cell_type": "code",
   "execution_count": null,
   "id": "41ea81f6-216d-4867-9b02-5c02db30c607",
   "metadata": {},
   "outputs": [],
   "source": []
  },
  {
   "cell_type": "code",
   "execution_count": null,
   "id": "0f8eeff9-fc70-474c-9f34-bb9b5565fa1d",
   "metadata": {},
   "outputs": [],
   "source": []
  }
 ],
 "metadata": {
  "kernelspec": {
   "display_name": "Python [conda env:base] *",
   "language": "python",
   "name": "conda-base-py"
  },
  "language_info": {
   "codemirror_mode": {
    "name": "ipython",
    "version": 3
   },
   "file_extension": ".py",
   "mimetype": "text/x-python",
   "name": "python",
   "nbconvert_exporter": "python",
   "pygments_lexer": "ipython3",
   "version": "3.12.2"
  }
 },
 "nbformat": 4,
 "nbformat_minor": 5
}
